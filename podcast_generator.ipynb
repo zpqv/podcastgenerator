{
 "cells": [
  {
   "cell_type": "code",
   "execution_count": null,
   "metadata": {},
   "outputs": [],
   "source": [
    "!pip install ftfy\n",
    "!pip install openai\n",
    "!pip install moviepy"
   ]
  },
  {
   "cell_type": "code",
   "execution_count": null,
   "metadata": {},
   "outputs": [],
   "source": [
    "data = \"\"\" insert the podcast script here \"\"\""
   ]
  },
  {
   "cell_type": "code",
   "execution_count": null,
   "metadata": {},
   "outputs": [],
   "source": [
    "\n",
    "import ftfy\n",
    "from pathlib import Path\n",
    "from openai import OpenAI\n",
    "import os\n",
    "from moviepy.editor import AudioFileClip, concatenate_audioclips"
   ]
  },
  {
   "cell_type": "code",
   "execution_count": null,
   "metadata": {},
   "outputs": [],
   "source": [
    "# Initialize OpenAI client\n",
    "client = OpenAI(api_key= \"your api key\" )"
   ]
  },
  {
   "cell_type": "code",
   "execution_count": null,
   "metadata": {},
   "outputs": [],
   "source": [
    "# Fix double-encoded sequences using ftfy\n",
    "sample_text = ftfy.fix_text(data)\n",
    "\n",
    "# Split the text using 'Host' as the delimiter\n",
    "chunks = sample_text.split('**Host:**')\n",
    "\n",
    "# Create a list to hold the chunked data\n",
    "chunked_data = []\n",
    "\n",
    "for chunk in chunks:\n",
    "    # Clean up the chunk by stripping leading/trailing whitespace\n",
    "    cleaned_chunk = chunk.strip()\n",
    "    if cleaned_chunk:  # Add only non-empty chunks\n",
    "        chunked_data.append(cleaned_chunk)\n",
    "\n"
   ]
  },
  {
   "cell_type": "code",
   "execution_count": null,
   "metadata": {},
   "outputs": [],
   "source": [
    "## Define the directory to save audio files\n",
    "audio_dir = Path(os.getcwd()) / \"audio_chunks\"\n",
    "audio_dir.mkdir(exist_ok=True)\n",
    "\n",
    "# List to store paths of audio files\n",
    "audio_files = []\n",
    "\n",
    "# Assume json_data is the list containing text chunks\n",
    "\n",
    "\n",
    "# Generate audio for each text chunk\n",
    "n =0\n",
    "for text in chunked_data:\n",
    "    audio_file_path = audio_dir / f\"chunk_{n}.mp3\"\n",
    "    print( \"Generating narration for:  \" ,text)\n",
    "    n=n+1\n",
    "    # Generate audio using OpenAI's speech model\n",
    "    response = client.audio.speech.create(\n",
    "        model=\"tts-1-hd\",  # Make sure to use the correct model name\n",
    "        voice=\"onyx\",  # \n",
    "        input=text\n",
    "    )\n",
    "\n",
    "    # Save generated audio to a file\n",
    "    # Assuming response contains the audio data as content\n",
    "    with open(audio_file_path, \"wb\") as f:\n",
    "        f.write(response.content)\n",
    "\n",
    "    audio_files.append(audio_file_path)\n",
    "    \n"
   ]
  },
  {
   "cell_type": "code",
   "execution_count": null,
   "metadata": {},
   "outputs": [],
   "source": [
    "\n",
    "# Stitch audio files together\n",
    "audio_clips = [AudioFileClip(str(file)) for file in audio_files]\n",
    "\n",
    "combined_audio = concatenate_audioclips(audio_clips)\n",
    "\n",
    "output_file = \"combined.mp3\"\n",
    "combined_audio.write_audiofile(output_file, codec=\"libmp3lame\")\n",
    "\n",
    "print(f\"Combined MP3 file saved as {output_file}\")"
   ]
  },
  {
   "cell_type": "code",
   "execution_count": null,
   "metadata": {},
   "outputs": [],
   "source": []
  }
 ],
 "metadata": {
  "kernelspec": {
   "display_name": ".venv",
   "language": "python",
   "name": "python3"
  },
  "language_info": {
   "codemirror_mode": {
    "name": "ipython",
    "version": 3
   },
   "file_extension": ".py",
   "mimetype": "text/x-python",
   "name": "python",
   "nbconvert_exporter": "python",
   "pygments_lexer": "ipython3",
   "version": "3.10.12"
  }
 },
 "nbformat": 4,
 "nbformat_minor": 2
}
